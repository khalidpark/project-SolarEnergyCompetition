{
  "nbformat": 4,
  "nbformat_minor": 0,
  "metadata": {
    "colab": {
      "name": "SolarEnergyCompetition.ipynb",
      "provenance": [],
      "collapsed_sections": [],
      "toc_visible": true,
      "authorship_tag": "ABX9TyMmt/shr0yMxyGzWTWlc3ff",
      "include_colab_link": true
    },
    "kernelspec": {
      "name": "python3",
      "display_name": "Python 3"
    },
    "language_info": {
      "name": "python"
    }
  },
  "cells": [
    {
      "cell_type": "markdown",
      "metadata": {
        "id": "view-in-github",
        "colab_type": "text"
      },
      "source": [
        "<a href=\"https://colab.research.google.com/github/khalidpark/project-SolarEnergyCompetition/blob/main/SolarEnergyCompetition.ipynb\" target=\"_parent\"><img src=\"https://colab.research.google.com/assets/colab-badge.svg\" alt=\"Open In Colab\"/></a>"
      ]
    },
    {
      "cell_type": "markdown",
      "metadata": {
        "id": "XVbphFDrDPun"
      },
      "source": [
        "# 주제\n",
        "\n",
        "시간대별 태양광 발전량 예측\n",
        "\n",
        "# 데이터\n",
        "\n",
        "site_info.csv / 총 4곳 발전소 정보\n",
        "\n",
        "energy.csv / 4곳의 시계열 데이터 발전량 (KW) (25632 rows × 5 columns)\n",
        "\n",
        "dangjin_fcst_data.csv / 예측 , 온도 , 습도 , 속도 , 클라우드\n",
        "\n",
        "dangjin_obs_data.csv / 예측 , 온도 , 습도 , 속도 , 클라우드\n",
        "\n",
        "ulsan_fcst_data.csv / 예측 , 온도 , 습도 , 속도 , 클라우드\n",
        "\n",
        "ulsan_obs_data.csv / 예측 , 온도 , 습도 , 속도 , 클라우드\n",
        "\n",
        "sample_submission.csv / 제출\n",
        "\n",
        "# 상세\n",
        "\n",
        "Forecast time : 예보 발표 시점\n",
        "forecast : 예보 시간 \n",
        "(ex - Forecast time:2018-03-01 11:00:00, forecast:4.0 => 2018-03-01 11:00:00에 발표한 2018-03-01 15:00:00 예보\n",
        "\n",
        "예보 발표 시점 'forecast'시간 후 기상 예보\n",
        "Temperature : 온도(℃)\n",
        "Humidity : 습도(%)\n",
        "WindSpeed : 풍속(m/s)\n",
        "WindDirection : 풍향(º)\n",
        "Cloud : 하늘상태(1-맑음, 2-구름보통, 3-구름많음, 4-흐림)\n",
        "\n",
        "## (1) 시계열데이터의 시간에 forecast 시간을 더해줘야 해당 시간의 정확한 날씨값으로 활용가능\n",
        "\n",
        "## (2) cloud의 수치는 위계가 없음을 유의, 인코더 유의해서 적용\n",
        "\n",
        "# 평가산식\n",
        "\n",
        "NMAE-10\n",
        "\n",
        "4개의 발전소 발전량을 하나로 합하여 평가\n",
        "4개 발전소 총 발전용량으로 정규화\n",
        "발전용량의 10% 이상 발전된 데이터만으로 평가"
      ]
    },
    {
      "cell_type": "markdown",
      "metadata": {
        "id": "VnlEhq8qGNH6"
      },
      "source": [
        "\n",
        "\n",
        "---\n",
        "\n",
        "# 데이터 입력 , 전처리\n",
        "\n",
        "# ML 진행\n",
        "\n",
        "# 제출"
      ]
    },
    {
      "cell_type": "code",
      "metadata": {
        "id": "RCkncczVGSi3"
      },
      "source": [
        "import pandas as pd"
      ],
      "execution_count": 1,
      "outputs": []
    },
    {
      "cell_type": "code",
      "metadata": {
        "id": "kEloH6Z9GuEe"
      },
      "source": [
        "df = pd.read_csv('/content/site_info.csv')"
      ],
      "execution_count": 2,
      "outputs": []
    },
    {
      "cell_type": "code",
      "metadata": {
        "colab": {
          "base_uri": "https://localhost:8080/",
          "height": 173
        },
        "id": "TCtUcKJpG20K",
        "outputId": "563c30ed-9de2-48db-a155-0ff8beb4f640"
      },
      "source": [
        "df.head()"
      ],
      "execution_count": 3,
      "outputs": [
        {
          "output_type": "execute_result",
          "data": {
            "text/html": [
              "<div>\n",
              "<style scoped>\n",
              "    .dataframe tbody tr th:only-of-type {\n",
              "        vertical-align: middle;\n",
              "    }\n",
              "\n",
              "    .dataframe tbody tr th {\n",
              "        vertical-align: top;\n",
              "    }\n",
              "\n",
              "    .dataframe thead th {\n",
              "        text-align: right;\n",
              "    }\n",
              "</style>\n",
              "<table border=\"1\" class=\"dataframe\">\n",
              "  <thead>\n",
              "    <tr style=\"text-align: right;\">\n",
              "      <th></th>\n",
              "      <th>Id</th>\n",
              "      <th>Capacity</th>\n",
              "      <th>Address</th>\n",
              "      <th>InstallationAngle</th>\n",
              "      <th>IncidentAngle</th>\n",
              "      <th>Latitude</th>\n",
              "      <th>Longitude</th>\n",
              "    </tr>\n",
              "  </thead>\n",
              "  <tbody>\n",
              "    <tr>\n",
              "      <th>0</th>\n",
              "      <td>당진수상태양광</td>\n",
              "      <td>1.0</td>\n",
              "      <td>충남 당진시 석문면 교로길 30</td>\n",
              "      <td>30.0</td>\n",
              "      <td>30.0</td>\n",
              "      <td>37.050753</td>\n",
              "      <td>126.510299</td>\n",
              "    </tr>\n",
              "    <tr>\n",
              "      <th>1</th>\n",
              "      <td>당진자재창고태양광</td>\n",
              "      <td>0.7</td>\n",
              "      <td>충남 당진시 석문면 교로길 30</td>\n",
              "      <td>30.0</td>\n",
              "      <td>30.0</td>\n",
              "      <td>37.050753</td>\n",
              "      <td>126.510299</td>\n",
              "    </tr>\n",
              "    <tr>\n",
              "      <th>2</th>\n",
              "      <td>당진태양광</td>\n",
              "      <td>1.0</td>\n",
              "      <td>충남 당진시 석문면 교로길 30</td>\n",
              "      <td>30.0</td>\n",
              "      <td>30.0</td>\n",
              "      <td>37.050753</td>\n",
              "      <td>126.510299</td>\n",
              "    </tr>\n",
              "    <tr>\n",
              "      <th>3</th>\n",
              "      <td>울산태양광</td>\n",
              "      <td>0.5</td>\n",
              "      <td>울산광역시 남구 용잠로 623</td>\n",
              "      <td>20.0</td>\n",
              "      <td>20.0</td>\n",
              "      <td>35.477651</td>\n",
              "      <td>129.380778</td>\n",
              "    </tr>\n",
              "  </tbody>\n",
              "</table>\n",
              "</div>"
            ],
            "text/plain": [
              "          Id  Capacity            Address  ...  IncidentAngle   Latitude   Longitude\n",
              "0    당진수상태양광       1.0  충남 당진시 석문면 교로길 30  ...           30.0  37.050753  126.510299\n",
              "1  당진자재창고태양광       0.7  충남 당진시 석문면 교로길 30  ...           30.0  37.050753  126.510299\n",
              "2      당진태양광       1.0  충남 당진시 석문면 교로길 30  ...           30.0  37.050753  126.510299\n",
              "3      울산태양광       0.5   울산광역시 남구 용잠로 623  ...           20.0  35.477651  129.380778\n",
              "\n",
              "[4 rows x 7 columns]"
            ]
          },
          "metadata": {
            "tags": []
          },
          "execution_count": 3
        }
      ]
    },
    {
      "cell_type": "markdown",
      "metadata": {
        "id": "SSeacY6tG9Z0"
      },
      "source": [
        "개요정보, 활용도 X"
      ]
    },
    {
      "cell_type": "code",
      "metadata": {
        "colab": {
          "base_uri": "https://localhost:8080/",
          "height": 204
        },
        "id": "-osadyM4HDxj",
        "outputId": "32201224-5b77-4801-9ed7-669ab171bc65"
      },
      "source": [
        "df = pd.read_csv('/content/energy.csv')\n",
        "df.head()"
      ],
      "execution_count": 4,
      "outputs": [
        {
          "output_type": "execute_result",
          "data": {
            "text/html": [
              "<div>\n",
              "<style scoped>\n",
              "    .dataframe tbody tr th:only-of-type {\n",
              "        vertical-align: middle;\n",
              "    }\n",
              "\n",
              "    .dataframe tbody tr th {\n",
              "        vertical-align: top;\n",
              "    }\n",
              "\n",
              "    .dataframe thead th {\n",
              "        text-align: right;\n",
              "    }\n",
              "</style>\n",
              "<table border=\"1\" class=\"dataframe\">\n",
              "  <thead>\n",
              "    <tr style=\"text-align: right;\">\n",
              "      <th></th>\n",
              "      <th>time</th>\n",
              "      <th>dangjin_floating</th>\n",
              "      <th>dangjin_warehouse</th>\n",
              "      <th>dangjin</th>\n",
              "      <th>ulsan</th>\n",
              "    </tr>\n",
              "  </thead>\n",
              "  <tbody>\n",
              "    <tr>\n",
              "      <th>0</th>\n",
              "      <td>2018-03-01 1:00:00</td>\n",
              "      <td>0.0</td>\n",
              "      <td>0.0</td>\n",
              "      <td>0</td>\n",
              "      <td>0</td>\n",
              "    </tr>\n",
              "    <tr>\n",
              "      <th>1</th>\n",
              "      <td>2018-03-01 2:00:00</td>\n",
              "      <td>0.0</td>\n",
              "      <td>0.0</td>\n",
              "      <td>0</td>\n",
              "      <td>0</td>\n",
              "    </tr>\n",
              "    <tr>\n",
              "      <th>2</th>\n",
              "      <td>2018-03-01 3:00:00</td>\n",
              "      <td>0.0</td>\n",
              "      <td>0.0</td>\n",
              "      <td>0</td>\n",
              "      <td>0</td>\n",
              "    </tr>\n",
              "    <tr>\n",
              "      <th>3</th>\n",
              "      <td>2018-03-01 4:00:00</td>\n",
              "      <td>0.0</td>\n",
              "      <td>0.0</td>\n",
              "      <td>0</td>\n",
              "      <td>0</td>\n",
              "    </tr>\n",
              "    <tr>\n",
              "      <th>4</th>\n",
              "      <td>2018-03-01 5:00:00</td>\n",
              "      <td>0.0</td>\n",
              "      <td>0.0</td>\n",
              "      <td>0</td>\n",
              "      <td>0</td>\n",
              "    </tr>\n",
              "  </tbody>\n",
              "</table>\n",
              "</div>"
            ],
            "text/plain": [
              "                 time  dangjin_floating  dangjin_warehouse  dangjin  ulsan\n",
              "0  2018-03-01 1:00:00               0.0                0.0        0      0\n",
              "1  2018-03-01 2:00:00               0.0                0.0        0      0\n",
              "2  2018-03-01 3:00:00               0.0                0.0        0      0\n",
              "3  2018-03-01 4:00:00               0.0                0.0        0      0\n",
              "4  2018-03-01 5:00:00               0.0                0.0        0      0"
            ]
          },
          "metadata": {
            "tags": []
          },
          "execution_count": 4
        }
      ]
    },
    {
      "cell_type": "code",
      "metadata": {
        "colab": {
          "base_uri": "https://localhost:8080/",
          "height": 669
        },
        "id": "2MNyPbCjHWjI",
        "outputId": "34e381d3-5976-4a98-8e9f-70c44974f85c"
      },
      "source": [
        "df_df = pd.read_csv('/content/dangjin_fcst_data.csv')\n",
        "df_df.head(20)"
      ],
      "execution_count": 5,
      "outputs": [
        {
          "output_type": "execute_result",
          "data": {
            "text/html": [
              "<div>\n",
              "<style scoped>\n",
              "    .dataframe tbody tr th:only-of-type {\n",
              "        vertical-align: middle;\n",
              "    }\n",
              "\n",
              "    .dataframe tbody tr th {\n",
              "        vertical-align: top;\n",
              "    }\n",
              "\n",
              "    .dataframe thead th {\n",
              "        text-align: right;\n",
              "    }\n",
              "</style>\n",
              "<table border=\"1\" class=\"dataframe\">\n",
              "  <thead>\n",
              "    <tr style=\"text-align: right;\">\n",
              "      <th></th>\n",
              "      <th>Forecast time</th>\n",
              "      <th>forecast</th>\n",
              "      <th>Temperature</th>\n",
              "      <th>Humidity</th>\n",
              "      <th>WindSpeed</th>\n",
              "      <th>WindDirection</th>\n",
              "      <th>Cloud</th>\n",
              "    </tr>\n",
              "  </thead>\n",
              "  <tbody>\n",
              "    <tr>\n",
              "      <th>0</th>\n",
              "      <td>2018-03-01 11:00:00</td>\n",
              "      <td>4.0</td>\n",
              "      <td>0.0</td>\n",
              "      <td>60.0</td>\n",
              "      <td>7.3</td>\n",
              "      <td>309.0</td>\n",
              "      <td>2.0</td>\n",
              "    </tr>\n",
              "    <tr>\n",
              "      <th>1</th>\n",
              "      <td>2018-03-01 11:00:00</td>\n",
              "      <td>7.0</td>\n",
              "      <td>-2.0</td>\n",
              "      <td>60.0</td>\n",
              "      <td>7.1</td>\n",
              "      <td>314.0</td>\n",
              "      <td>1.0</td>\n",
              "    </tr>\n",
              "    <tr>\n",
              "      <th>2</th>\n",
              "      <td>2018-03-01 11:00:00</td>\n",
              "      <td>10.0</td>\n",
              "      <td>-2.0</td>\n",
              "      <td>60.0</td>\n",
              "      <td>6.7</td>\n",
              "      <td>323.0</td>\n",
              "      <td>1.0</td>\n",
              "    </tr>\n",
              "    <tr>\n",
              "      <th>3</th>\n",
              "      <td>2018-03-01 11:00:00</td>\n",
              "      <td>13.0</td>\n",
              "      <td>-2.0</td>\n",
              "      <td>55.0</td>\n",
              "      <td>6.7</td>\n",
              "      <td>336.0</td>\n",
              "      <td>1.0</td>\n",
              "    </tr>\n",
              "    <tr>\n",
              "      <th>4</th>\n",
              "      <td>2018-03-01 11:00:00</td>\n",
              "      <td>16.0</td>\n",
              "      <td>-4.0</td>\n",
              "      <td>55.0</td>\n",
              "      <td>5.5</td>\n",
              "      <td>339.0</td>\n",
              "      <td>1.0</td>\n",
              "    </tr>\n",
              "    <tr>\n",
              "      <th>5</th>\n",
              "      <td>2018-03-01 11:00:00</td>\n",
              "      <td>19.0</td>\n",
              "      <td>-5.0</td>\n",
              "      <td>60.0</td>\n",
              "      <td>4.3</td>\n",
              "      <td>344.0</td>\n",
              "      <td>1.0</td>\n",
              "    </tr>\n",
              "    <tr>\n",
              "      <th>6</th>\n",
              "      <td>2018-03-01 11:00:00</td>\n",
              "      <td>22.0</td>\n",
              "      <td>-2.0</td>\n",
              "      <td>55.0</td>\n",
              "      <td>2.0</td>\n",
              "      <td>345.0</td>\n",
              "      <td>1.0</td>\n",
              "    </tr>\n",
              "    <tr>\n",
              "      <th>7</th>\n",
              "      <td>2018-03-01 11:00:00</td>\n",
              "      <td>25.0</td>\n",
              "      <td>1.0</td>\n",
              "      <td>45.0</td>\n",
              "      <td>0.8</td>\n",
              "      <td>256.0</td>\n",
              "      <td>1.0</td>\n",
              "    </tr>\n",
              "    <tr>\n",
              "      <th>8</th>\n",
              "      <td>2018-03-01 11:00:00</td>\n",
              "      <td>28.0</td>\n",
              "      <td>3.0</td>\n",
              "      <td>50.0</td>\n",
              "      <td>2.3</td>\n",
              "      <td>270.0</td>\n",
              "      <td>1.0</td>\n",
              "    </tr>\n",
              "    <tr>\n",
              "      <th>9</th>\n",
              "      <td>2018-03-01 11:00:00</td>\n",
              "      <td>31.0</td>\n",
              "      <td>1.0</td>\n",
              "      <td>55.0</td>\n",
              "      <td>1.9</td>\n",
              "      <td>264.0</td>\n",
              "      <td>1.0</td>\n",
              "    </tr>\n",
              "    <tr>\n",
              "      <th>10</th>\n",
              "      <td>2018-03-01 11:00:00</td>\n",
              "      <td>34.0</td>\n",
              "      <td>-1.0</td>\n",
              "      <td>70.0</td>\n",
              "      <td>1.6</td>\n",
              "      <td>68.0</td>\n",
              "      <td>1.0</td>\n",
              "    </tr>\n",
              "    <tr>\n",
              "      <th>11</th>\n",
              "      <td>2018-03-01 11:00:00</td>\n",
              "      <td>37.0</td>\n",
              "      <td>-2.0</td>\n",
              "      <td>75.0</td>\n",
              "      <td>2.0</td>\n",
              "      <td>114.0</td>\n",
              "      <td>2.0</td>\n",
              "    </tr>\n",
              "    <tr>\n",
              "      <th>12</th>\n",
              "      <td>2018-03-01 11:00:00</td>\n",
              "      <td>40.0</td>\n",
              "      <td>-2.0</td>\n",
              "      <td>75.0</td>\n",
              "      <td>2.6</td>\n",
              "      <td>140.0</td>\n",
              "      <td>2.0</td>\n",
              "    </tr>\n",
              "    <tr>\n",
              "      <th>13</th>\n",
              "      <td>2018-03-01 11:00:00</td>\n",
              "      <td>43.0</td>\n",
              "      <td>-2.0</td>\n",
              "      <td>80.0</td>\n",
              "      <td>2.7</td>\n",
              "      <td>138.0</td>\n",
              "      <td>2.0</td>\n",
              "    </tr>\n",
              "    <tr>\n",
              "      <th>14</th>\n",
              "      <td>2018-03-01 11:00:00</td>\n",
              "      <td>46.0</td>\n",
              "      <td>1.0</td>\n",
              "      <td>80.0</td>\n",
              "      <td>2.6</td>\n",
              "      <td>133.0</td>\n",
              "      <td>2.0</td>\n",
              "    </tr>\n",
              "    <tr>\n",
              "      <th>15</th>\n",
              "      <td>2018-03-01 11:00:00</td>\n",
              "      <td>49.0</td>\n",
              "      <td>9.0</td>\n",
              "      <td>70.0</td>\n",
              "      <td>3.1</td>\n",
              "      <td>130.0</td>\n",
              "      <td>2.0</td>\n",
              "    </tr>\n",
              "    <tr>\n",
              "      <th>16</th>\n",
              "      <td>2018-03-01 11:00:00</td>\n",
              "      <td>52.0</td>\n",
              "      <td>12.0</td>\n",
              "      <td>65.0</td>\n",
              "      <td>1.3</td>\n",
              "      <td>184.0</td>\n",
              "      <td>3.0</td>\n",
              "    </tr>\n",
              "    <tr>\n",
              "      <th>17</th>\n",
              "      <td>2018-03-01 11:00:00</td>\n",
              "      <td>55.0</td>\n",
              "      <td>11.0</td>\n",
              "      <td>80.0</td>\n",
              "      <td>1.3</td>\n",
              "      <td>135.0</td>\n",
              "      <td>3.0</td>\n",
              "    </tr>\n",
              "    <tr>\n",
              "      <th>18</th>\n",
              "      <td>2018-03-01 11:00:00</td>\n",
              "      <td>58.0</td>\n",
              "      <td>9.0</td>\n",
              "      <td>85.0</td>\n",
              "      <td>1.4</td>\n",
              "      <td>155.0</td>\n",
              "      <td>3.0</td>\n",
              "    </tr>\n",
              "    <tr>\n",
              "      <th>19</th>\n",
              "      <td>2018-03-01 11:00:00</td>\n",
              "      <td>61.0</td>\n",
              "      <td>9.0</td>\n",
              "      <td>85.0</td>\n",
              "      <td>1.4</td>\n",
              "      <td>197.0</td>\n",
              "      <td>3.0</td>\n",
              "    </tr>\n",
              "  </tbody>\n",
              "</table>\n",
              "</div>"
            ],
            "text/plain": [
              "          Forecast time  forecast  Temperature  ...  WindSpeed  WindDirection  Cloud\n",
              "0   2018-03-01 11:00:00       4.0          0.0  ...        7.3          309.0    2.0\n",
              "1   2018-03-01 11:00:00       7.0         -2.0  ...        7.1          314.0    1.0\n",
              "2   2018-03-01 11:00:00      10.0         -2.0  ...        6.7          323.0    1.0\n",
              "3   2018-03-01 11:00:00      13.0         -2.0  ...        6.7          336.0    1.0\n",
              "4   2018-03-01 11:00:00      16.0         -4.0  ...        5.5          339.0    1.0\n",
              "5   2018-03-01 11:00:00      19.0         -5.0  ...        4.3          344.0    1.0\n",
              "6   2018-03-01 11:00:00      22.0         -2.0  ...        2.0          345.0    1.0\n",
              "7   2018-03-01 11:00:00      25.0          1.0  ...        0.8          256.0    1.0\n",
              "8   2018-03-01 11:00:00      28.0          3.0  ...        2.3          270.0    1.0\n",
              "9   2018-03-01 11:00:00      31.0          1.0  ...        1.9          264.0    1.0\n",
              "10  2018-03-01 11:00:00      34.0         -1.0  ...        1.6           68.0    1.0\n",
              "11  2018-03-01 11:00:00      37.0         -2.0  ...        2.0          114.0    2.0\n",
              "12  2018-03-01 11:00:00      40.0         -2.0  ...        2.6          140.0    2.0\n",
              "13  2018-03-01 11:00:00      43.0         -2.0  ...        2.7          138.0    2.0\n",
              "14  2018-03-01 11:00:00      46.0          1.0  ...        2.6          133.0    2.0\n",
              "15  2018-03-01 11:00:00      49.0          9.0  ...        3.1          130.0    2.0\n",
              "16  2018-03-01 11:00:00      52.0         12.0  ...        1.3          184.0    3.0\n",
              "17  2018-03-01 11:00:00      55.0         11.0  ...        1.3          135.0    3.0\n",
              "18  2018-03-01 11:00:00      58.0          9.0  ...        1.4          155.0    3.0\n",
              "19  2018-03-01 11:00:00      61.0          9.0  ...        1.4          197.0    3.0\n",
              "\n",
              "[20 rows x 7 columns]"
            ]
          },
          "metadata": {
            "tags": []
          },
          "execution_count": 5
        }
      ]
    },
    {
      "cell_type": "code",
      "metadata": {
        "colab": {
          "base_uri": "https://localhost:8080/"
        },
        "id": "91rYu3FMLX9G",
        "outputId": "86faa5fd-cab7-4f3b-c483-a55f74c7c881"
      },
      "source": [
        "df_df.shape"
      ],
      "execution_count": 6,
      "outputs": [
        {
          "output_type": "execute_result",
          "data": {
            "text/plain": [
              "(162208, 7)"
            ]
          },
          "metadata": {
            "tags": []
          },
          "execution_count": 6
        }
      ]
    },
    {
      "cell_type": "markdown",
      "metadata": {
        "id": "3VthHC_XH-RZ"
      },
      "source": [
        "# 데이터 확인결과\n",
        "\n",
        "3월1일10시 + 7(forecast) 와\n",
        "\n",
        "3월1일13시 + 4(forecast) 가 동시에 존재함을 확인\n",
        "\n",
        "즉 중복 데이터들이 많이 존재함\n",
        "\n",
        "시간과 forecast를 합치고 중복치를 제거해주는 작업 필수\n",
        "\n",
        "다른 데이터도 비슷한 상황인지 추후 파악\n",
        "\n",
        "우선 시계열 데이터 정리작업 진행"
      ]
    },
    {
      "cell_type": "code",
      "metadata": {
        "colab": {
          "base_uri": "https://localhost:8080/"
        },
        "id": "69TGKfxnIn-A",
        "outputId": "11c4679a-e2c6-49e5-b84c-2dc11f46a7b1"
      },
      "source": [
        "df_df.dtypes"
      ],
      "execution_count": null,
      "outputs": [
        {
          "output_type": "execute_result",
          "data": {
            "text/plain": [
              "Forecast time     object\n",
              "forecast         float64\n",
              "Temperature      float64\n",
              "Humidity         float64\n",
              "WindSpeed        float64\n",
              "WindDirection    float64\n",
              "Cloud            float64\n",
              "dtype: object"
            ]
          },
          "metadata": {
            "tags": []
          },
          "execution_count": 40
        }
      ]
    },
    {
      "cell_type": "code",
      "metadata": {
        "id": "jSjNjtKsI1KS"
      },
      "source": [
        "#시계열데이터로 변환\n",
        "df_df['Forecast time'] = pd.to_datetime(df_df['Forecast time'], format='%Y-%m-%d %H:%M:%S')"
      ],
      "execution_count": null,
      "outputs": []
    },
    {
      "cell_type": "code",
      "metadata": {
        "colab": {
          "base_uri": "https://localhost:8080/"
        },
        "id": "S-gb1_d5Jbl2",
        "outputId": "1675eb9e-9ed0-4ae6-fdc7-7bc2194d5402"
      },
      "source": [
        "df_df.dtypes"
      ],
      "execution_count": null,
      "outputs": [
        {
          "output_type": "execute_result",
          "data": {
            "text/plain": [
              "Forecast time    datetime64[ns]\n",
              "forecast                float64\n",
              "Temperature             float64\n",
              "Humidity                float64\n",
              "WindSpeed               float64\n",
              "WindDirection           float64\n",
              "Cloud                   float64\n",
              "dtype: object"
            ]
          },
          "metadata": {
            "tags": []
          },
          "execution_count": 42
        }
      ]
    },
    {
      "cell_type": "code",
      "metadata": {
        "colab": {
          "base_uri": "https://localhost:8080/",
          "height": 343
        },
        "id": "kypEFQNOJdCq",
        "outputId": "9eb1bb25-9853-41f9-ea4c-43154b9bf16c"
      },
      "source": [
        "df_df.head(10)"
      ],
      "execution_count": null,
      "outputs": [
        {
          "output_type": "execute_result",
          "data": {
            "text/html": [
              "<div>\n",
              "<style scoped>\n",
              "    .dataframe tbody tr th:only-of-type {\n",
              "        vertical-align: middle;\n",
              "    }\n",
              "\n",
              "    .dataframe tbody tr th {\n",
              "        vertical-align: top;\n",
              "    }\n",
              "\n",
              "    .dataframe thead th {\n",
              "        text-align: right;\n",
              "    }\n",
              "</style>\n",
              "<table border=\"1\" class=\"dataframe\">\n",
              "  <thead>\n",
              "    <tr style=\"text-align: right;\">\n",
              "      <th></th>\n",
              "      <th>Forecast time</th>\n",
              "      <th>forecast</th>\n",
              "      <th>Temperature</th>\n",
              "      <th>Humidity</th>\n",
              "      <th>WindSpeed</th>\n",
              "      <th>WindDirection</th>\n",
              "      <th>Cloud</th>\n",
              "    </tr>\n",
              "  </thead>\n",
              "  <tbody>\n",
              "    <tr>\n",
              "      <th>0</th>\n",
              "      <td>2018-03-01 11:00:00</td>\n",
              "      <td>4.0</td>\n",
              "      <td>0.0</td>\n",
              "      <td>60.0</td>\n",
              "      <td>7.3</td>\n",
              "      <td>309.0</td>\n",
              "      <td>2.0</td>\n",
              "    </tr>\n",
              "    <tr>\n",
              "      <th>1</th>\n",
              "      <td>2018-03-01 11:00:00</td>\n",
              "      <td>7.0</td>\n",
              "      <td>-2.0</td>\n",
              "      <td>60.0</td>\n",
              "      <td>7.1</td>\n",
              "      <td>314.0</td>\n",
              "      <td>1.0</td>\n",
              "    </tr>\n",
              "    <tr>\n",
              "      <th>2</th>\n",
              "      <td>2018-03-01 11:00:00</td>\n",
              "      <td>10.0</td>\n",
              "      <td>-2.0</td>\n",
              "      <td>60.0</td>\n",
              "      <td>6.7</td>\n",
              "      <td>323.0</td>\n",
              "      <td>1.0</td>\n",
              "    </tr>\n",
              "    <tr>\n",
              "      <th>3</th>\n",
              "      <td>2018-03-01 11:00:00</td>\n",
              "      <td>13.0</td>\n",
              "      <td>-2.0</td>\n",
              "      <td>55.0</td>\n",
              "      <td>6.7</td>\n",
              "      <td>336.0</td>\n",
              "      <td>1.0</td>\n",
              "    </tr>\n",
              "    <tr>\n",
              "      <th>4</th>\n",
              "      <td>2018-03-01 11:00:00</td>\n",
              "      <td>16.0</td>\n",
              "      <td>-4.0</td>\n",
              "      <td>55.0</td>\n",
              "      <td>5.5</td>\n",
              "      <td>339.0</td>\n",
              "      <td>1.0</td>\n",
              "    </tr>\n",
              "    <tr>\n",
              "      <th>5</th>\n",
              "      <td>2018-03-01 11:00:00</td>\n",
              "      <td>19.0</td>\n",
              "      <td>-5.0</td>\n",
              "      <td>60.0</td>\n",
              "      <td>4.3</td>\n",
              "      <td>344.0</td>\n",
              "      <td>1.0</td>\n",
              "    </tr>\n",
              "    <tr>\n",
              "      <th>6</th>\n",
              "      <td>2018-03-01 11:00:00</td>\n",
              "      <td>22.0</td>\n",
              "      <td>-2.0</td>\n",
              "      <td>55.0</td>\n",
              "      <td>2.0</td>\n",
              "      <td>345.0</td>\n",
              "      <td>1.0</td>\n",
              "    </tr>\n",
              "    <tr>\n",
              "      <th>7</th>\n",
              "      <td>2018-03-01 11:00:00</td>\n",
              "      <td>25.0</td>\n",
              "      <td>1.0</td>\n",
              "      <td>45.0</td>\n",
              "      <td>0.8</td>\n",
              "      <td>256.0</td>\n",
              "      <td>1.0</td>\n",
              "    </tr>\n",
              "    <tr>\n",
              "      <th>8</th>\n",
              "      <td>2018-03-01 11:00:00</td>\n",
              "      <td>28.0</td>\n",
              "      <td>3.0</td>\n",
              "      <td>50.0</td>\n",
              "      <td>2.3</td>\n",
              "      <td>270.0</td>\n",
              "      <td>1.0</td>\n",
              "    </tr>\n",
              "    <tr>\n",
              "      <th>9</th>\n",
              "      <td>2018-03-01 11:00:00</td>\n",
              "      <td>31.0</td>\n",
              "      <td>1.0</td>\n",
              "      <td>55.0</td>\n",
              "      <td>1.9</td>\n",
              "      <td>264.0</td>\n",
              "      <td>1.0</td>\n",
              "    </tr>\n",
              "  </tbody>\n",
              "</table>\n",
              "</div>"
            ],
            "text/plain": [
              "        Forecast time  forecast  Temperature  ...  WindSpeed  WindDirection  Cloud\n",
              "0 2018-03-01 11:00:00       4.0          0.0  ...        7.3          309.0    2.0\n",
              "1 2018-03-01 11:00:00       7.0         -2.0  ...        7.1          314.0    1.0\n",
              "2 2018-03-01 11:00:00      10.0         -2.0  ...        6.7          323.0    1.0\n",
              "3 2018-03-01 11:00:00      13.0         -2.0  ...        6.7          336.0    1.0\n",
              "4 2018-03-01 11:00:00      16.0         -4.0  ...        5.5          339.0    1.0\n",
              "5 2018-03-01 11:00:00      19.0         -5.0  ...        4.3          344.0    1.0\n",
              "6 2018-03-01 11:00:00      22.0         -2.0  ...        2.0          345.0    1.0\n",
              "7 2018-03-01 11:00:00      25.0          1.0  ...        0.8          256.0    1.0\n",
              "8 2018-03-01 11:00:00      28.0          3.0  ...        2.3          270.0    1.0\n",
              "9 2018-03-01 11:00:00      31.0          1.0  ...        1.9          264.0    1.0\n",
              "\n",
              "[10 rows x 7 columns]"
            ]
          },
          "metadata": {
            "tags": []
          },
          "execution_count": 49
        }
      ]
    },
    {
      "cell_type": "code",
      "metadata": {
        "colab": {
          "base_uri": "https://localhost:8080/"
        },
        "id": "IkxIewtoNOwX",
        "outputId": "e67daaa0-e86f-49a8-937d-0523d9ab9fdb"
      },
      "source": [
        "# forecast 더해주기위한 테스트\n",
        "\n",
        "# x = df_df['forecast'][0]\n",
        "# print(x)"
      ],
      "execution_count": null,
      "outputs": [
        {
          "output_type": "stream",
          "text": [
            "4.0\n"
          ],
          "name": "stdout"
        }
      ]
    },
    {
      "cell_type": "code",
      "metadata": {
        "colab": {
          "base_uri": "https://localhost:8080/"
        },
        "id": "3QtHYRV6NGPG",
        "outputId": "17e49b00-c950-44b1-8c3d-aa2939f1c5ca"
      },
      "source": [
        "# forecast 더해주기위한 테스트\n",
        "\n",
        "# df_df['Forecast time'][0] = df_df['Forecast time'][0] + pd.DateOffset(hours=x)"
      ],
      "execution_count": null,
      "outputs": [
        {
          "output_type": "stream",
          "text": [
            "/usr/local/lib/python3.7/dist-packages/ipykernel_launcher.py:1: SettingWithCopyWarning: \n",
            "A value is trying to be set on a copy of a slice from a DataFrame\n",
            "\n",
            "See the caveats in the documentation: https://pandas.pydata.org/pandas-docs/stable/user_guide/indexing.html#returning-a-view-versus-a-copy\n",
            "  \"\"\"Entry point for launching an IPython kernel.\n"
          ],
          "name": "stderr"
        }
      ]
    },
    {
      "cell_type": "code",
      "metadata": {
        "colab": {
          "base_uri": "https://localhost:8080/"
        },
        "id": "YKVozXszNXx7",
        "outputId": "9324ec31-ab64-40fe-a703-546e9655447e"
      },
      "source": [
        "# forecast 더해주기위한 테스트\n",
        "\n",
        "# df_df['Forecast time'][0]"
      ],
      "execution_count": null,
      "outputs": [
        {
          "output_type": "execute_result",
          "data": {
            "text/plain": [
              "Timestamp('2018-03-06 19:00:00')"
            ]
          },
          "metadata": {
            "tags": []
          },
          "execution_count": 46
        }
      ]
    },
    {
      "cell_type": "code",
      "metadata": {
        "colab": {
          "base_uri": "https://localhost:8080/"
        },
        "id": "r3e3prwOKM7N",
        "outputId": "78b07c10-9a9f-4f2d-b8ed-e467c69f1743"
      },
      "source": [
        "for i in range(0,162208):\n",
        "    x = df_df['forecast'][i]\n",
        "    df_df['Forecast time'][i] = df_df['Forecast time'][i] + pd.DateOffset(hours=x)"
      ],
      "execution_count": null,
      "outputs": [
        {
          "output_type": "stream",
          "text": [
            "/usr/local/lib/python3.7/dist-packages/ipykernel_launcher.py:3: SettingWithCopyWarning: \n",
            "A value is trying to be set on a copy of a slice from a DataFrame\n",
            "\n",
            "See the caveats in the documentation: https://pandas.pydata.org/pandas-docs/stable/user_guide/indexing.html#returning-a-view-versus-a-copy\n",
            "  This is separate from the ipykernel package so we can avoid doing imports until\n"
          ],
          "name": "stderr"
        }
      ]
    },
    {
      "cell_type": "code",
      "metadata": {
        "colab": {
          "base_uri": "https://localhost:8080/",
          "height": 343
        },
        "id": "4sGWTB-RNoiw",
        "outputId": "ebf8ec03-20d7-46f6-a5cf-c9faa5a19d7e"
      },
      "source": [
        "df_df.head(10)"
      ],
      "execution_count": null,
      "outputs": [
        {
          "output_type": "execute_result",
          "data": {
            "text/html": [
              "<div>\n",
              "<style scoped>\n",
              "    .dataframe tbody tr th:only-of-type {\n",
              "        vertical-align: middle;\n",
              "    }\n",
              "\n",
              "    .dataframe tbody tr th {\n",
              "        vertical-align: top;\n",
              "    }\n",
              "\n",
              "    .dataframe thead th {\n",
              "        text-align: right;\n",
              "    }\n",
              "</style>\n",
              "<table border=\"1\" class=\"dataframe\">\n",
              "  <thead>\n",
              "    <tr style=\"text-align: right;\">\n",
              "      <th></th>\n",
              "      <th>Forecast time</th>\n",
              "      <th>forecast</th>\n",
              "      <th>Temperature</th>\n",
              "      <th>Humidity</th>\n",
              "      <th>WindSpeed</th>\n",
              "      <th>WindDirection</th>\n",
              "      <th>Cloud</th>\n",
              "    </tr>\n",
              "  </thead>\n",
              "  <tbody>\n",
              "    <tr>\n",
              "      <th>0</th>\n",
              "      <td>2018-03-01 15:00:00</td>\n",
              "      <td>4.0</td>\n",
              "      <td>0.0</td>\n",
              "      <td>60.0</td>\n",
              "      <td>7.3</td>\n",
              "      <td>309.0</td>\n",
              "      <td>2.0</td>\n",
              "    </tr>\n",
              "    <tr>\n",
              "      <th>1</th>\n",
              "      <td>2018-03-01 18:00:00</td>\n",
              "      <td>7.0</td>\n",
              "      <td>-2.0</td>\n",
              "      <td>60.0</td>\n",
              "      <td>7.1</td>\n",
              "      <td>314.0</td>\n",
              "      <td>1.0</td>\n",
              "    </tr>\n",
              "    <tr>\n",
              "      <th>2</th>\n",
              "      <td>2018-03-01 21:00:00</td>\n",
              "      <td>10.0</td>\n",
              "      <td>-2.0</td>\n",
              "      <td>60.0</td>\n",
              "      <td>6.7</td>\n",
              "      <td>323.0</td>\n",
              "      <td>1.0</td>\n",
              "    </tr>\n",
              "    <tr>\n",
              "      <th>3</th>\n",
              "      <td>2018-03-02 00:00:00</td>\n",
              "      <td>13.0</td>\n",
              "      <td>-2.0</td>\n",
              "      <td>55.0</td>\n",
              "      <td>6.7</td>\n",
              "      <td>336.0</td>\n",
              "      <td>1.0</td>\n",
              "    </tr>\n",
              "    <tr>\n",
              "      <th>4</th>\n",
              "      <td>2018-03-02 03:00:00</td>\n",
              "      <td>16.0</td>\n",
              "      <td>-4.0</td>\n",
              "      <td>55.0</td>\n",
              "      <td>5.5</td>\n",
              "      <td>339.0</td>\n",
              "      <td>1.0</td>\n",
              "    </tr>\n",
              "    <tr>\n",
              "      <th>5</th>\n",
              "      <td>2018-03-02 06:00:00</td>\n",
              "      <td>19.0</td>\n",
              "      <td>-5.0</td>\n",
              "      <td>60.0</td>\n",
              "      <td>4.3</td>\n",
              "      <td>344.0</td>\n",
              "      <td>1.0</td>\n",
              "    </tr>\n",
              "    <tr>\n",
              "      <th>6</th>\n",
              "      <td>2018-03-02 09:00:00</td>\n",
              "      <td>22.0</td>\n",
              "      <td>-2.0</td>\n",
              "      <td>55.0</td>\n",
              "      <td>2.0</td>\n",
              "      <td>345.0</td>\n",
              "      <td>1.0</td>\n",
              "    </tr>\n",
              "    <tr>\n",
              "      <th>7</th>\n",
              "      <td>2018-03-02 12:00:00</td>\n",
              "      <td>25.0</td>\n",
              "      <td>1.0</td>\n",
              "      <td>45.0</td>\n",
              "      <td>0.8</td>\n",
              "      <td>256.0</td>\n",
              "      <td>1.0</td>\n",
              "    </tr>\n",
              "    <tr>\n",
              "      <th>8</th>\n",
              "      <td>2018-03-02 15:00:00</td>\n",
              "      <td>28.0</td>\n",
              "      <td>3.0</td>\n",
              "      <td>50.0</td>\n",
              "      <td>2.3</td>\n",
              "      <td>270.0</td>\n",
              "      <td>1.0</td>\n",
              "    </tr>\n",
              "    <tr>\n",
              "      <th>9</th>\n",
              "      <td>2018-03-02 18:00:00</td>\n",
              "      <td>31.0</td>\n",
              "      <td>1.0</td>\n",
              "      <td>55.0</td>\n",
              "      <td>1.9</td>\n",
              "      <td>264.0</td>\n",
              "      <td>1.0</td>\n",
              "    </tr>\n",
              "  </tbody>\n",
              "</table>\n",
              "</div>"
            ],
            "text/plain": [
              "        Forecast time  forecast  Temperature  ...  WindSpeed  WindDirection  Cloud\n",
              "0 2018-03-01 15:00:00       4.0          0.0  ...        7.3          309.0    2.0\n",
              "1 2018-03-01 18:00:00       7.0         -2.0  ...        7.1          314.0    1.0\n",
              "2 2018-03-01 21:00:00      10.0         -2.0  ...        6.7          323.0    1.0\n",
              "3 2018-03-02 00:00:00      13.0         -2.0  ...        6.7          336.0    1.0\n",
              "4 2018-03-02 03:00:00      16.0         -4.0  ...        5.5          339.0    1.0\n",
              "5 2018-03-02 06:00:00      19.0         -5.0  ...        4.3          344.0    1.0\n",
              "6 2018-03-02 09:00:00      22.0         -2.0  ...        2.0          345.0    1.0\n",
              "7 2018-03-02 12:00:00      25.0          1.0  ...        0.8          256.0    1.0\n",
              "8 2018-03-02 15:00:00      28.0          3.0  ...        2.3          270.0    1.0\n",
              "9 2018-03-02 18:00:00      31.0          1.0  ...        1.9          264.0    1.0\n",
              "\n",
              "[10 rows x 7 columns]"
            ]
          },
          "metadata": {
            "tags": []
          },
          "execution_count": 51
        }
      ]
    },
    {
      "cell_type": "code",
      "metadata": {
        "colab": {
          "base_uri": "https://localhost:8080/",
          "height": 343
        },
        "id": "vUYDxJbNNtHs",
        "outputId": "0338e4d2-6c16-4fc1-a442-6470ccd2561d"
      },
      "source": [
        "df_df.tail(10)"
      ],
      "execution_count": null,
      "outputs": [
        {
          "output_type": "execute_result",
          "data": {
            "text/html": [
              "<div>\n",
              "<style scoped>\n",
              "    .dataframe tbody tr th:only-of-type {\n",
              "        vertical-align: middle;\n",
              "    }\n",
              "\n",
              "    .dataframe tbody tr th {\n",
              "        vertical-align: top;\n",
              "    }\n",
              "\n",
              "    .dataframe thead th {\n",
              "        text-align: right;\n",
              "    }\n",
              "</style>\n",
              "<table border=\"1\" class=\"dataframe\">\n",
              "  <thead>\n",
              "    <tr style=\"text-align: right;\">\n",
              "      <th></th>\n",
              "      <th>Forecast time</th>\n",
              "      <th>forecast</th>\n",
              "      <th>Temperature</th>\n",
              "      <th>Humidity</th>\n",
              "      <th>WindSpeed</th>\n",
              "      <th>WindDirection</th>\n",
              "      <th>Cloud</th>\n",
              "    </tr>\n",
              "  </thead>\n",
              "  <tbody>\n",
              "    <tr>\n",
              "      <th>162198</th>\n",
              "      <td>2021-03-02 21:00:00</td>\n",
              "      <td>37.0</td>\n",
              "      <td>1.0</td>\n",
              "      <td>80.0</td>\n",
              "      <td>2.4</td>\n",
              "      <td>330.0</td>\n",
              "      <td>1.0</td>\n",
              "    </tr>\n",
              "    <tr>\n",
              "      <th>162199</th>\n",
              "      <td>2021-03-03 00:00:00</td>\n",
              "      <td>40.0</td>\n",
              "      <td>0.0</td>\n",
              "      <td>85.0</td>\n",
              "      <td>1.2</td>\n",
              "      <td>85.0</td>\n",
              "      <td>1.0</td>\n",
              "    </tr>\n",
              "    <tr>\n",
              "      <th>162200</th>\n",
              "      <td>2021-03-03 03:00:00</td>\n",
              "      <td>43.0</td>\n",
              "      <td>-1.0</td>\n",
              "      <td>85.0</td>\n",
              "      <td>1.8</td>\n",
              "      <td>119.0</td>\n",
              "      <td>1.0</td>\n",
              "    </tr>\n",
              "    <tr>\n",
              "      <th>162201</th>\n",
              "      <td>2021-03-03 06:00:00</td>\n",
              "      <td>46.0</td>\n",
              "      <td>-2.0</td>\n",
              "      <td>80.0</td>\n",
              "      <td>2.3</td>\n",
              "      <td>133.0</td>\n",
              "      <td>1.0</td>\n",
              "    </tr>\n",
              "    <tr>\n",
              "      <th>162202</th>\n",
              "      <td>2021-03-03 09:00:00</td>\n",
              "      <td>49.0</td>\n",
              "      <td>1.0</td>\n",
              "      <td>65.0</td>\n",
              "      <td>3.0</td>\n",
              "      <td>150.0</td>\n",
              "      <td>1.0</td>\n",
              "    </tr>\n",
              "    <tr>\n",
              "      <th>162203</th>\n",
              "      <td>2021-03-03 12:00:00</td>\n",
              "      <td>52.0</td>\n",
              "      <td>7.0</td>\n",
              "      <td>40.0</td>\n",
              "      <td>3.2</td>\n",
              "      <td>187.0</td>\n",
              "      <td>1.0</td>\n",
              "    </tr>\n",
              "    <tr>\n",
              "      <th>162204</th>\n",
              "      <td>2021-03-03 15:00:00</td>\n",
              "      <td>55.0</td>\n",
              "      <td>8.0</td>\n",
              "      <td>40.0</td>\n",
              "      <td>4.5</td>\n",
              "      <td>217.0</td>\n",
              "      <td>1.0</td>\n",
              "    </tr>\n",
              "    <tr>\n",
              "      <th>162205</th>\n",
              "      <td>2021-03-03 18:00:00</td>\n",
              "      <td>58.0</td>\n",
              "      <td>5.0</td>\n",
              "      <td>55.0</td>\n",
              "      <td>2.2</td>\n",
              "      <td>210.0</td>\n",
              "      <td>1.0</td>\n",
              "    </tr>\n",
              "    <tr>\n",
              "      <th>162206</th>\n",
              "      <td>2021-03-03 21:00:00</td>\n",
              "      <td>61.0</td>\n",
              "      <td>1.0</td>\n",
              "      <td>80.0</td>\n",
              "      <td>1.9</td>\n",
              "      <td>164.0</td>\n",
              "      <td>1.0</td>\n",
              "    </tr>\n",
              "    <tr>\n",
              "      <th>162207</th>\n",
              "      <td>2021-03-04 00:00:00</td>\n",
              "      <td>64.0</td>\n",
              "      <td>1.0</td>\n",
              "      <td>80.0</td>\n",
              "      <td>2.1</td>\n",
              "      <td>152.0</td>\n",
              "      <td>1.0</td>\n",
              "    </tr>\n",
              "  </tbody>\n",
              "</table>\n",
              "</div>"
            ],
            "text/plain": [
              "             Forecast time  forecast  ...  WindDirection  Cloud\n",
              "162198 2021-03-02 21:00:00      37.0  ...          330.0    1.0\n",
              "162199 2021-03-03 00:00:00      40.0  ...           85.0    1.0\n",
              "162200 2021-03-03 03:00:00      43.0  ...          119.0    1.0\n",
              "162201 2021-03-03 06:00:00      46.0  ...          133.0    1.0\n",
              "162202 2021-03-03 09:00:00      49.0  ...          150.0    1.0\n",
              "162203 2021-03-03 12:00:00      52.0  ...          187.0    1.0\n",
              "162204 2021-03-03 15:00:00      55.0  ...          217.0    1.0\n",
              "162205 2021-03-03 18:00:00      58.0  ...          210.0    1.0\n",
              "162206 2021-03-03 21:00:00      61.0  ...          164.0    1.0\n",
              "162207 2021-03-04 00:00:00      64.0  ...          152.0    1.0\n",
              "\n",
              "[10 rows x 7 columns]"
            ]
          },
          "metadata": {
            "tags": []
          },
          "execution_count": 52
        }
      ]
    },
    {
      "cell_type": "code",
      "metadata": {
        "id": "AMwzbbt5S1gi"
      },
      "source": [
        "df_df = df_df.drop_duplicates(['Forecast time'], keep='first')"
      ],
      "execution_count": null,
      "outputs": []
    },
    {
      "cell_type": "code",
      "metadata": {
        "colab": {
          "base_uri": "https://localhost:8080/"
        },
        "id": "NlAJRn0zTGpR",
        "outputId": "15e307d8-5c8a-4a07-bffd-0fa668939b64"
      },
      "source": [
        "df_df.shape"
      ],
      "execution_count": null,
      "outputs": [
        {
          "output_type": "execute_result",
          "data": {
            "text/plain": [
              "(8788, 7)"
            ]
          },
          "metadata": {
            "tags": []
          },
          "execution_count": 56
        }
      ]
    },
    {
      "cell_type": "markdown",
      "metadata": {
        "id": "upX_hh3FTS6M"
      },
      "source": [
        ""
      ]
    },
    {
      "cell_type": "code",
      "metadata": {
        "colab": {
          "base_uri": "https://localhost:8080/",
          "height": 639
        },
        "id": "_DUXsT0WTNE4",
        "outputId": "9c10eae3-1c86-48e5-8e4e-f89b0e2b1c50"
      },
      "source": [
        "df_do = pd.read_csv('/content/dangjin_obs_data.csv')\n",
        "df_do.head(20)"
      ],
      "execution_count": null,
      "outputs": [
        {
          "output_type": "execute_result",
          "data": {
            "text/html": [
              "<div>\n",
              "<style scoped>\n",
              "    .dataframe tbody tr th:only-of-type {\n",
              "        vertical-align: middle;\n",
              "    }\n",
              "\n",
              "    .dataframe tbody tr th {\n",
              "        vertical-align: top;\n",
              "    }\n",
              "\n",
              "    .dataframe thead th {\n",
              "        text-align: right;\n",
              "    }\n",
              "</style>\n",
              "<table border=\"1\" class=\"dataframe\">\n",
              "  <thead>\n",
              "    <tr style=\"text-align: right;\">\n",
              "      <th></th>\n",
              "      <th>지점</th>\n",
              "      <th>지점명</th>\n",
              "      <th>일시</th>\n",
              "      <th>기온(°C)</th>\n",
              "      <th>풍속(m/s)</th>\n",
              "      <th>풍향(16방위)</th>\n",
              "      <th>습도(%)</th>\n",
              "      <th>전운량(10분위)</th>\n",
              "    </tr>\n",
              "  </thead>\n",
              "  <tbody>\n",
              "    <tr>\n",
              "      <th>0</th>\n",
              "      <td>129</td>\n",
              "      <td>서산</td>\n",
              "      <td>2018-03-01 00:00</td>\n",
              "      <td>3.1</td>\n",
              "      <td>3.6</td>\n",
              "      <td>340.0</td>\n",
              "      <td>96.0</td>\n",
              "      <td>NaN</td>\n",
              "    </tr>\n",
              "    <tr>\n",
              "      <th>1</th>\n",
              "      <td>129</td>\n",
              "      <td>서산</td>\n",
              "      <td>2018-03-01 01:00</td>\n",
              "      <td>2.8</td>\n",
              "      <td>0.7</td>\n",
              "      <td>140.0</td>\n",
              "      <td>97.0</td>\n",
              "      <td>NaN</td>\n",
              "    </tr>\n",
              "    <tr>\n",
              "      <th>2</th>\n",
              "      <td>129</td>\n",
              "      <td>서산</td>\n",
              "      <td>2018-03-01 02:00</td>\n",
              "      <td>2.6</td>\n",
              "      <td>3.2</td>\n",
              "      <td>320.0</td>\n",
              "      <td>95.0</td>\n",
              "      <td>NaN</td>\n",
              "    </tr>\n",
              "    <tr>\n",
              "      <th>3</th>\n",
              "      <td>129</td>\n",
              "      <td>서산</td>\n",
              "      <td>2018-03-01 03:00</td>\n",
              "      <td>2.0</td>\n",
              "      <td>1.9</td>\n",
              "      <td>230.0</td>\n",
              "      <td>97.0</td>\n",
              "      <td>NaN</td>\n",
              "    </tr>\n",
              "    <tr>\n",
              "      <th>4</th>\n",
              "      <td>129</td>\n",
              "      <td>서산</td>\n",
              "      <td>2018-03-01 04:00</td>\n",
              "      <td>2.2</td>\n",
              "      <td>2.1</td>\n",
              "      <td>180.0</td>\n",
              "      <td>97.0</td>\n",
              "      <td>NaN</td>\n",
              "    </tr>\n",
              "    <tr>\n",
              "      <th>5</th>\n",
              "      <td>129</td>\n",
              "      <td>서산</td>\n",
              "      <td>2018-03-01 05:00</td>\n",
              "      <td>4.1</td>\n",
              "      <td>4.4</td>\n",
              "      <td>270.0</td>\n",
              "      <td>97.0</td>\n",
              "      <td>NaN</td>\n",
              "    </tr>\n",
              "    <tr>\n",
              "      <th>6</th>\n",
              "      <td>129</td>\n",
              "      <td>서산</td>\n",
              "      <td>2018-03-01 06:00</td>\n",
              "      <td>3.5</td>\n",
              "      <td>7.9</td>\n",
              "      <td>320.0</td>\n",
              "      <td>93.0</td>\n",
              "      <td>NaN</td>\n",
              "    </tr>\n",
              "    <tr>\n",
              "      <th>7</th>\n",
              "      <td>129</td>\n",
              "      <td>서산</td>\n",
              "      <td>2018-03-01 07:00</td>\n",
              "      <td>2.2</td>\n",
              "      <td>6.4</td>\n",
              "      <td>290.0</td>\n",
              "      <td>86.0</td>\n",
              "      <td>NaN</td>\n",
              "    </tr>\n",
              "    <tr>\n",
              "      <th>8</th>\n",
              "      <td>129</td>\n",
              "      <td>서산</td>\n",
              "      <td>2018-03-01 08:00</td>\n",
              "      <td>1.0</td>\n",
              "      <td>7.7</td>\n",
              "      <td>320.0</td>\n",
              "      <td>82.0</td>\n",
              "      <td>NaN</td>\n",
              "    </tr>\n",
              "    <tr>\n",
              "      <th>9</th>\n",
              "      <td>129</td>\n",
              "      <td>서산</td>\n",
              "      <td>2018-03-01 09:00</td>\n",
              "      <td>0.3</td>\n",
              "      <td>8.9</td>\n",
              "      <td>320.0</td>\n",
              "      <td>71.0</td>\n",
              "      <td>NaN</td>\n",
              "    </tr>\n",
              "    <tr>\n",
              "      <th>10</th>\n",
              "      <td>129</td>\n",
              "      <td>서산</td>\n",
              "      <td>2018-03-01 10:00</td>\n",
              "      <td>0.6</td>\n",
              "      <td>7.9</td>\n",
              "      <td>320.0</td>\n",
              "      <td>63.0</td>\n",
              "      <td>NaN</td>\n",
              "    </tr>\n",
              "    <tr>\n",
              "      <th>11</th>\n",
              "      <td>129</td>\n",
              "      <td>서산</td>\n",
              "      <td>2018-03-01 11:00</td>\n",
              "      <td>0.5</td>\n",
              "      <td>9.1</td>\n",
              "      <td>320.0</td>\n",
              "      <td>58.0</td>\n",
              "      <td>NaN</td>\n",
              "    </tr>\n",
              "    <tr>\n",
              "      <th>12</th>\n",
              "      <td>129</td>\n",
              "      <td>서산</td>\n",
              "      <td>2018-03-01 12:00</td>\n",
              "      <td>0.7</td>\n",
              "      <td>6.7</td>\n",
              "      <td>320.0</td>\n",
              "      <td>60.0</td>\n",
              "      <td>NaN</td>\n",
              "    </tr>\n",
              "    <tr>\n",
              "      <th>13</th>\n",
              "      <td>129</td>\n",
              "      <td>서산</td>\n",
              "      <td>2018-03-01 13:00</td>\n",
              "      <td>1.5</td>\n",
              "      <td>6.5</td>\n",
              "      <td>320.0</td>\n",
              "      <td>60.0</td>\n",
              "      <td>NaN</td>\n",
              "    </tr>\n",
              "    <tr>\n",
              "      <th>14</th>\n",
              "      <td>129</td>\n",
              "      <td>서산</td>\n",
              "      <td>2018-03-01 14:00</td>\n",
              "      <td>0.1</td>\n",
              "      <td>5.1</td>\n",
              "      <td>340.0</td>\n",
              "      <td>56.0</td>\n",
              "      <td>NaN</td>\n",
              "    </tr>\n",
              "    <tr>\n",
              "      <th>15</th>\n",
              "      <td>129</td>\n",
              "      <td>서산</td>\n",
              "      <td>2018-03-01 15:00</td>\n",
              "      <td>0.4</td>\n",
              "      <td>5.0</td>\n",
              "      <td>320.0</td>\n",
              "      <td>56.0</td>\n",
              "      <td>NaN</td>\n",
              "    </tr>\n",
              "    <tr>\n",
              "      <th>16</th>\n",
              "      <td>129</td>\n",
              "      <td>서산</td>\n",
              "      <td>2018-03-01 16:00</td>\n",
              "      <td>0.3</td>\n",
              "      <td>6.0</td>\n",
              "      <td>290.0</td>\n",
              "      <td>56.0</td>\n",
              "      <td>NaN</td>\n",
              "    </tr>\n",
              "    <tr>\n",
              "      <th>17</th>\n",
              "      <td>129</td>\n",
              "      <td>서산</td>\n",
              "      <td>2018-03-01 17:00</td>\n",
              "      <td>-0.5</td>\n",
              "      <td>4.6</td>\n",
              "      <td>320.0</td>\n",
              "      <td>59.0</td>\n",
              "      <td>NaN</td>\n",
              "    </tr>\n",
              "    <tr>\n",
              "      <th>18</th>\n",
              "      <td>129</td>\n",
              "      <td>서산</td>\n",
              "      <td>2018-03-01 18:00</td>\n",
              "      <td>-1.3</td>\n",
              "      <td>5.4</td>\n",
              "      <td>290.0</td>\n",
              "      <td>62.0</td>\n",
              "      <td>NaN</td>\n",
              "    </tr>\n",
              "    <tr>\n",
              "      <th>19</th>\n",
              "      <td>129</td>\n",
              "      <td>서산</td>\n",
              "      <td>2018-03-01 19:00</td>\n",
              "      <td>-1.7</td>\n",
              "      <td>4.4</td>\n",
              "      <td>320.0</td>\n",
              "      <td>63.0</td>\n",
              "      <td>NaN</td>\n",
              "    </tr>\n",
              "  </tbody>\n",
              "</table>\n",
              "</div>"
            ],
            "text/plain": [
              "     지점 지점명                일시  기온(°C)  풍속(m/s)  풍향(16방위)  습도(%)  전운량(10분위)\n",
              "0   129  서산  2018-03-01 00:00     3.1      3.6     340.0   96.0        NaN\n",
              "1   129  서산  2018-03-01 01:00     2.8      0.7     140.0   97.0        NaN\n",
              "2   129  서산  2018-03-01 02:00     2.6      3.2     320.0   95.0        NaN\n",
              "3   129  서산  2018-03-01 03:00     2.0      1.9     230.0   97.0        NaN\n",
              "4   129  서산  2018-03-01 04:00     2.2      2.1     180.0   97.0        NaN\n",
              "5   129  서산  2018-03-01 05:00     4.1      4.4     270.0   97.0        NaN\n",
              "6   129  서산  2018-03-01 06:00     3.5      7.9     320.0   93.0        NaN\n",
              "7   129  서산  2018-03-01 07:00     2.2      6.4     290.0   86.0        NaN\n",
              "8   129  서산  2018-03-01 08:00     1.0      7.7     320.0   82.0        NaN\n",
              "9   129  서산  2018-03-01 09:00     0.3      8.9     320.0   71.0        NaN\n",
              "10  129  서산  2018-03-01 10:00     0.6      7.9     320.0   63.0        NaN\n",
              "11  129  서산  2018-03-01 11:00     0.5      9.1     320.0   58.0        NaN\n",
              "12  129  서산  2018-03-01 12:00     0.7      6.7     320.0   60.0        NaN\n",
              "13  129  서산  2018-03-01 13:00     1.5      6.5     320.0   60.0        NaN\n",
              "14  129  서산  2018-03-01 14:00     0.1      5.1     340.0   56.0        NaN\n",
              "15  129  서산  2018-03-01 15:00     0.4      5.0     320.0   56.0        NaN\n",
              "16  129  서산  2018-03-01 16:00     0.3      6.0     290.0   56.0        NaN\n",
              "17  129  서산  2018-03-01 17:00    -0.5      4.6     320.0   59.0        NaN\n",
              "18  129  서산  2018-03-01 18:00    -1.3      5.4     290.0   62.0        NaN\n",
              "19  129  서산  2018-03-01 19:00    -1.7      4.4     320.0   63.0        NaN"
            ]
          },
          "metadata": {
            "tags": []
          },
          "execution_count": 59
        }
      ]
    },
    {
      "cell_type": "code",
      "metadata": {
        "colab": {
          "base_uri": "https://localhost:8080/"
        },
        "id": "aeCeUKz4UnkU",
        "outputId": "1dda0b1c-7d8e-48ef-fc74-c7d4719a7c63"
      },
      "source": [
        "df_df.loc[0]"
      ],
      "execution_count": null,
      "outputs": [
        {
          "output_type": "execute_result",
          "data": {
            "text/plain": [
              "Forecast time    2018-03-01 15:00:00\n",
              "forecast                           4\n",
              "Temperature                        0\n",
              "Humidity                          60\n",
              "WindSpeed                        7.3\n",
              "WindDirection                    309\n",
              "Cloud                              2\n",
              "Name: 0, dtype: object"
            ]
          },
          "metadata": {
            "tags": []
          },
          "execution_count": 60
        }
      ]
    },
    {
      "cell_type": "code",
      "metadata": {
        "colab": {
          "base_uri": "https://localhost:8080/"
        },
        "id": "QAjf4a6PUqPv",
        "outputId": "dedf70e0-88f3-45b5-c279-42751bdf65d3"
      },
      "source": [
        "df_do.loc[15]"
      ],
      "execution_count": null,
      "outputs": [
        {
          "output_type": "execute_result",
          "data": {
            "text/plain": [
              "지점                        129\n",
              "지점명                        서산\n",
              "일시           2018-03-01 15:00\n",
              "기온(°C)                    0.4\n",
              "풍속(m/s)                     5\n",
              "풍향(16방위)                  320\n",
              "습도(%)                      56\n",
              "전운량(10분위)                 NaN\n",
              "Name: 15, dtype: object"
            ]
          },
          "metadata": {
            "tags": []
          },
          "execution_count": 61
        }
      ]
    },
    {
      "cell_type": "markdown",
      "metadata": {
        "id": "GrFmpO5hUzhx"
      },
      "source": [
        "# 데이터의 이해\n",
        "\n",
        "같은 날짜의 같은 시간인데 결과가 다른 이유는 무엇인가?\n",
        "데이터의 의미를 다시한번 확인하기\n",
        "\n",
        "# 예보와 실제 예측치 값의 조화\n",
        "\n",
        "예보와 실제 날씨값을 조화시키는 방법을 강구하거나\n",
        "\n",
        "예보값은 버리고 실제 날씨값만으로 머신러닝 돌리고 추후 값을 예측\n",
        "\n",
        "기준은 시계열. 흐름 그래프를 이해하고 예측하는것\n",
        "\n",
        "예보가 1시간마다 진행되지 않는다는점\n",
        "\n",
        "데이터를 그렇다고 다 잘라낼수도없고\n",
        "\n",
        "예측데이터는 버리고 실제 데이터 (obs)만 활용하는 방향으로 가자\n",
        "\n",
        "energy 에서 잘라서 각각의 obs에 타겟값으로 넣어서 모델을 2개 만든다\n",
        "\n",
        "각각의 예측값들을 하나의 데이터로 합쳐서 제출한다"
      ]
    },
    {
      "cell_type": "markdown",
      "metadata": {
        "id": "ZLZRksOkYQpn"
      },
      "source": [
        "\n",
        "\n",
        "---\n",
        "\n"
      ]
    }
  ]
}